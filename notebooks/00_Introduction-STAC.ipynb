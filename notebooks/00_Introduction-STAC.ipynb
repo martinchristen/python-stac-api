{
 "cells": [
  {
   "cell_type": "markdown",
   "metadata": {},
   "source": [
    "## STAC API\n",
    "\n",
    "<img src=\"https://raw.githubusercontent.com/radiantearth/stac-site/master/images/logo/stac-030-long.png\" width=\"30%\"></img>\n",
    "\n",
    "https://stacspec.org/\n",
    "\n",
    "\n",
    "### PyStac Client\n",
    "\n",
    "* https://pystac.readthedocs.io/en/latest/   ( Funktioniert leider nicht mit swisstopo API )\n",
    "\n",
    "* eine **einfache** Implementation habe ich mit swisstopostac.py gemacht\n"
   ]
  },
  {
   "cell_type": "markdown",
   "metadata": {},
   "source": [
    "### Swisstopo STAC\n",
    "\n",
    "https://www.geo.admin.ch/de/geo-dienstleistungen/geodienste/downloadienste/stac-api.html\n",
    "\n",
    "Root: https://data.geo.admin.ch/api/stac/v0.9/\n",
    "\n",
    "\n",
    "**API - Abfrageendpunkte**\n",
    "\n",
    "| Endpoint | Description |\n",
    "|----------|---------------|\n",
    "| /        | Liefert die API-Capabilities |\n",
    "| /conformance | Info über die Standards, mit denen die API konform ist |\n",
    "| /collections | Verfügbare Datensätze auflisten (Collections) |\n",
    "| /collections/{collectionId} | Liefert Metadaten der einzelnen Collection (JSON) |\n",
    "| /collections/{collectionId}/items | Liefert die Items in der Collection (GeoJSON) |\n",
    "| /collections/{collectionId}/items/{featureId} |iefert ein einzelnes Item (GeoJSON) |\n",
    "| /search | Liefert eine Liste von Items, die den Abfrageparametern entsprechen. Ähnlich wie /collections/{collectionId}/items, führt jedoch die Filterung über alle Collections durch |\n",
    "\n",
    "\n"
   ]
  },
  {
   "cell_type": "code",
   "execution_count": null,
   "metadata": {},
   "outputs": [],
   "source": [
    "import geopandas as gpd\n",
    "import shapely\n",
    "import sys"
   ]
  },
  {
   "cell_type": "code",
   "execution_count": null,
   "metadata": {},
   "outputs": [],
   "source": [
    "sys.path.append('..')\n",
    "import geopandas_stac as stac   # wir sind im Notebook-directory, die Bibliothek ist eine Ebene höher"
   ]
  },
  {
   "cell_type": "markdown",
   "metadata": {},
   "source": [
    "## Katalog anzeigen"
   ]
  },
  {
   "cell_type": "code",
   "execution_count": null,
   "metadata": {},
   "outputs": [],
   "source": [
    "df_collections = stac.getCollections(cache=False)\n",
    "\n",
    "df_collections"
   ]
  },
  {
   "cell_type": "markdown",
   "metadata": {},
   "source": [
    "``id`` zeilenweise ausgeben"
   ]
  },
  {
   "cell_type": "code",
   "execution_count": null,
   "metadata": {},
   "outputs": [],
   "source": [
    "def print_info(row):\n",
    "    uid = row['id']\n",
    "    print(uid)\n",
    "    \n",
    "r = df_collections.apply(print_info, axis=1)"
   ]
  },
  {
   "cell_type": "code",
   "execution_count": null,
   "metadata": {},
   "outputs": [],
   "source": [
    "df = stac.getFeatures(\"ch.swisstopo.pixelkarte-farbe-pk50.noscale\", cache=True)"
   ]
  },
  {
   "cell_type": "code",
   "execution_count": null,
   "metadata": {},
   "outputs": [],
   "source": [
    "len(df)"
   ]
  },
  {
   "cell_type": "code",
   "execution_count": null,
   "metadata": {},
   "outputs": [],
   "source": [
    "df.head()"
   ]
  },
  {
   "cell_type": "code",
   "execution_count": null,
   "metadata": {},
   "outputs": [],
   "source": [
    "df.plot()"
   ]
  },
  {
   "cell_type": "code",
   "execution_count": null,
   "metadata": {},
   "outputs": [],
   "source": [
    "df_assets = stac.genAssets(df)\n",
    "len(df_assets)"
   ]
  },
  {
   "cell_type": "code",
   "execution_count": null,
   "metadata": {},
   "outputs": [],
   "source": [
    "df_assets.head()"
   ]
  },
  {
   "cell_type": "markdown",
   "metadata": {},
   "source": [
    "**Varianten** siehe auch: https://www.swisstopo.admin.ch/content/swisstopo-internet/en/swisstopo/documents.download/swisstopo-internet/en/documents/karto-documents/shop/SMRProduktdokumentation_D.pdf\n",
    "\n",
    "* KREL Farbkombination mit Relief (RGB)\n",
    "* KOMB Farbkombination ohne Relief (indizierte Farben)\n",
    "* KGRS Graustufenkombination ohne Relief (indizierte Farben)\n",
    "* EE Einzelebenen (Bitmap, RELI und GTON als Graustufen)\n",
    "        "
   ]
  },
  {
   "cell_type": "code",
   "execution_count": null,
   "metadata": {},
   "outputs": [],
   "source": [
    "list(df_assets['variant'].unique())"
   ]
  },
  {
   "cell_type": "markdown",
   "metadata": {},
   "source": [
    "**Auflösung**\n",
    "\n",
    "Nur die Variante mit 2.5m pro Pixel"
   ]
  },
  {
   "cell_type": "code",
   "execution_count": null,
   "metadata": {},
   "outputs": [],
   "source": [
    "list(df_assets['gsd'].unique())"
   ]
  },
  {
   "cell_type": "markdown",
   "metadata": {},
   "source": [
    "**CRS**\n",
    "\n",
    "Nur EPSG Code 2056 (LV95)"
   ]
  },
  {
   "cell_type": "code",
   "execution_count": null,
   "metadata": {},
   "outputs": [],
   "source": [
    "list(df_assets['proj'].unique())"
   ]
  },
  {
   "cell_type": "markdown",
   "metadata": {},
   "source": [
    "**Fileformat** / **Filetype**"
   ]
  },
  {
   "cell_type": "code",
   "execution_count": null,
   "metadata": {},
   "outputs": [],
   "source": [
    "list(df_assets['type'].unique())"
   ]
  },
  {
   "cell_type": "markdown",
   "metadata": {},
   "source": [
    "**Schlussauswahl**\n",
    "\n",
    "Wir können also z.B. Dataframes für jede Variante erstellen:"
   ]
  },
  {
   "cell_type": "code",
   "execution_count": null,
   "metadata": {},
   "outputs": [],
   "source": [
    "df_kgrs = df_assets.query('variant == \"kgrs\"') # Farbkombination mit Relief (RGB)\n",
    "df_krel = df_assets.query('variant == \"krel\"') # Farbkombination ohne Relief (indizierte Farben)\n",
    "df_komb = df_assets.query('variant == \"komb\"') # Graustufenkombination ohne Relief (indizierte Farben)"
   ]
  },
  {
   "cell_type": "code",
   "execution_count": null,
   "metadata": {},
   "outputs": [],
   "source": [
    "df_krel.head(3)"
   ]
  },
  {
   "cell_type": "markdown",
   "metadata": {},
   "source": [
    "nun müsste man noch die URL auslesen, dies ist in der Hilfsfunktion getUrlList(df)"
   ]
  },
  {
   "cell_type": "markdown",
   "metadata": {},
   "source": [
    "### Nochmals der gesamte Weg (vereinfacht)\n",
    "\n",
    "\n",
    "* ``stac.getCollectionList(cache=True)``\n",
    "* ``df = stac.getAssets(\"ASSETNAME\")``\n",
    "* Eindeutigkeit Abfragen (z.B. Auflösung, Variante)\n",
    "* ``urls = stac.getUrlList(df_krel)``\n"
   ]
  },
  {
   "cell_type": "code",
   "execution_count": null,
   "metadata": {},
   "outputs": [],
   "source": [
    "stac.getCollectionList(cache=True)"
   ]
  },
  {
   "cell_type": "code",
   "execution_count": null,
   "metadata": {},
   "outputs": [],
   "source": [
    "df = stac.getAssets(\"ch.swisstopo.pixelkarte-farbe-pk50.noscale\")"
   ]
  },
  {
   "cell_type": "markdown",
   "metadata": {},
   "source": [
    "... hier müsste man noch wissen, was eindeutig ist ..."
   ]
  },
  {
   "cell_type": "code",
   "execution_count": null,
   "metadata": {},
   "outputs": [],
   "source": [
    "df_kgrs = df.query('variant == \"kgrs\"') # Farbkombination mit Relief (RGB)\n",
    "df_krel = df.query('variant == \"krel\"') # Farbkombination ohne Relief (indizierte Farben)\n",
    "df_komb = df.query('variant == \"komb\"') # Graustufenkombination ohne Relief (indizierte Farben)"
   ]
  },
  {
   "cell_type": "code",
   "execution_count": null,
   "metadata": {},
   "outputs": [],
   "source": [
    "urls = stac.getUrlList(df_krel)"
   ]
  },
  {
   "cell_type": "markdown",
   "metadata": {},
   "source": [
    "Wir könnten jetzt alles herunterladen..."
   ]
  },
  {
   "cell_type": "code",
   "execution_count": null,
   "metadata": {},
   "outputs": [],
   "source": [
    "urls[0:5]  # Die ersten 5 in der liste"
   ]
  },
  {
   "cell_type": "markdown",
   "metadata": {},
   "source": [
    "### Räumliche Abfragen\n",
    "\n",
    "Im Webinterface der Swisstopo haben wir ja folgende Auswahlmöglichkeiten gehabt:\n",
    "\n",
    "* Rechteck\n",
    "* Polygon\n",
    "* Klicken\n",
    "* Kanton\n",
    "* Gemeinde\n",
    "* Ganzer Datensatz\n",
    "\n",
    "Im Prinzip haben wir jetzt den **ganzen Datensatz**, also wir können recht einfach ein CSV selbst erstellen.\n"
   ]
  },
  {
   "cell_type": "markdown",
   "metadata": {},
   "source": [
    "#### Punkt"
   ]
  },
  {
   "cell_type": "code",
   "execution_count": null,
   "metadata": {},
   "outputs": [],
   "source": [
    "# Bundeshaus:\n",
    "lat = 46.94653998135123\n",
    "lng = 7.444120726365559"
   ]
  },
  {
   "cell_type": "code",
   "execution_count": null,
   "metadata": {},
   "outputs": [],
   "source": [
    "point = shapely.geometry.Point(lng, lat)\n",
    "bundeshaus_punkt = gpd.GeoDataFrame(geometry=gpd.GeoSeries(point, crs=\"epsg:4326\"))"
   ]
  },
  {
   "cell_type": "code",
   "execution_count": null,
   "metadata": {},
   "outputs": [],
   "source": [
    "bundeshaus_punkt"
   ]
  },
  {
   "cell_type": "code",
   "execution_count": null,
   "metadata": {},
   "outputs": [],
   "source": [
    "# siehe: https://geopandas.org/gallery/spatial_joins.html\n",
    "\n",
    "df_krel_bundeshaus = gpd.sjoin(df_krel, bundeshaus_punkt, op='contains')"
   ]
  },
  {
   "cell_type": "code",
   "execution_count": null,
   "metadata": {},
   "outputs": [],
   "source": [
    "urls = stac.getUrlList(df_krel_bundeshaus)\n",
    "urls"
   ]
  },
  {
   "cell_type": "code",
   "execution_count": null,
   "metadata": {},
   "outputs": [],
   "source": []
  },
  {
   "cell_type": "markdown",
   "metadata": {},
   "source": [
    "#### Polygon\n",
    "\n",
    "Polygon: Bern, Olten, Luzern, Interlaken"
   ]
  },
  {
   "cell_type": "code",
   "execution_count": null,
   "metadata": {},
   "outputs": [],
   "source": [
    "s = \"POLYGON((7.45147705078125 46.95401192579361,7.84698486328125 46.677710064644344,8.35235595703125 47.00647991252098,7.915649414062499 47.336961408985005,7.45147705078125 46.95401192579361))\""
   ]
  },
  {
   "cell_type": "code",
   "execution_count": null,
   "metadata": {},
   "outputs": [],
   "source": [
    "import shapely.wkt\n",
    "\n",
    "polygon = shapely.wkt.loads(s)\n",
    "poly_gpd = gpd.GeoDataFrame(geometry=gpd.GeoSeries(polygon, crs=\"epsg:4326\"))"
   ]
  },
  {
   "cell_type": "code",
   "execution_count": null,
   "metadata": {},
   "outputs": [],
   "source": [
    "# siehe: https://geopandas.org/gallery/spatial_joins.html\n",
    "\n",
    "df_polygon = gpd.sjoin(df_krel, poly_gpd, op='intersects')"
   ]
  },
  {
   "cell_type": "code",
   "execution_count": null,
   "metadata": {},
   "outputs": [],
   "source": [
    "urls = stac.getUrlList(df_polygon)\n",
    "urls"
   ]
  },
  {
   "cell_type": "markdown",
   "metadata": {},
   "source": [
    "#### Kanton, Gemeinde\n",
    "\n",
    "ist analog Polygon\n",
    "\n",
    "Für solche Anwendungen reichen generalisierte Polygone. \n",
    "\n",
    "Ein solches Shapefile kann z.B. bei https://www.bfs.admin.ch/bfs/de/home/dienstleistungen/geostat/geodaten-bundesstatistik/administrative-grenzen/generalisierte-gemeindegrenzen.html bezogen werden\n"
   ]
  },
  {
   "cell_type": "code",
   "execution_count": null,
   "metadata": {},
   "outputs": [],
   "source": [
    "kantone = gpd.read_file(\"daten/gemeindegrenzen/ggg_2021-LV95/shp/g1k21.shp\", encoding=\"utf-8\")\n",
    "kantone = kantone[['KTNR','KTNAME','AREA_HA', 'geometry']]\n",
    "kantone.head()"
   ]
  },
  {
   "cell_type": "code",
   "execution_count": null,
   "metadata": {},
   "outputs": [],
   "source": [
    "kantone = kantone.to_crs(\"EPSG:4326\")\n",
    "kantone.head(2)"
   ]
  },
  {
   "cell_type": "code",
   "execution_count": null,
   "metadata": {},
   "outputs": [],
   "source": [
    "poly_gpd = kantone.query('KTNR == 2')\n",
    "poly_gpd"
   ]
  },
  {
   "cell_type": "code",
   "execution_count": null,
   "metadata": {},
   "outputs": [],
   "source": [
    "df_daten_kantone = gpd.sjoin(df_krel, poly_gpd, op='intersects')"
   ]
  },
  {
   "cell_type": "code",
   "execution_count": null,
   "metadata": {},
   "outputs": [],
   "source": [
    "urls = stac.getUrlList(df_daten_kantone)\n",
    "urls"
   ]
  }
 ],
 "metadata": {
  "kernelspec": {
   "display_name": "Python 3",
   "language": "python",
   "name": "python3"
  },
  "language_info": {
   "codemirror_mode": {
    "name": "ipython",
    "version": 3
   },
   "file_extension": ".py",
   "mimetype": "text/x-python",
   "name": "python",
   "nbconvert_exporter": "python",
   "pygments_lexer": "ipython3",
   "version": "3.7.7"
  }
 },
 "nbformat": 4,
 "nbformat_minor": 4
}
